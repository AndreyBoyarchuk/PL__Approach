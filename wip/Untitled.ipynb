{
 "cells": [
  {
   "cell_type": "code",
   "execution_count": 1,
   "id": "e16bd570",
   "metadata": {
    "pycharm": {
     "name": "#%%\n"
    }
   },
   "outputs": [],
   "source": [
    "import pandas as pd\n",
    "import numpy as np\n",
    "import json"
   ]
  },
  {
   "cell_type": "code",
   "execution_count": 2,
   "id": "1dc6d2ee",
   "metadata": {},
   "outputs": [],
   "source": [
    "# Load the CSV data into a DataFrame\n",
    "df = pd.read_csv('../csvs/samples.csv')"
   ]
  },
  {
   "cell_type": "code",
   "execution_count": 3,
   "id": "d60b1569",
   "metadata": {},
   "outputs": [],
   "source": [
    "\n",
    "df_info = df.iloc[:4, :2]\n",
    "df_info.columns = ['Name', 'Type']\n",
    "\n",
    "# Select the financial records and assign column names for df_records\n",
    "df_records = df.iloc[6:]\n",
    "df_records.columns = df.iloc[5]\n",
    "\n",
    "\n"
   ]
  },
  {
   "cell_type": "code",
   "execution_count": 4,
   "id": "e79d9ff2",
   "metadata": {},
   "outputs": [],
   "source": [
    "\n",
    "def generate_json_object(df_records):\n",
    "    data = {\n",
    "       \"company_name\": df_info.iloc[0, 1],\n",
    "        \"accounting_method\": df_info.iloc[1, 1],\n",
    "        \"start_date\": df_info.iloc[2, 1],\n",
    "        \"end_date\": df_info.iloc[3, 1],\n",
    "        \"income\": [],\n",
    "        \"expenses\": []\n",
    "    }\n",
    "\n",
    "    for _, row in df_records.iterrows():\n",
    "        record_type = row['record_type']\n",
    "        category = row['category']\n",
    "        description = row['description']\n",
    "        amount = float(row['amount'])\n",
    "\n",
    "        record = {\n",
    "            \"category\": category,\n",
    "            \"description\": description,\n",
    "            \"amount\": amount\n",
    "        }\n",
    "\n",
    "        if record_type == 'income':\n",
    "            data['income'].append(record)\n",
    "        elif record_type == 'expense':\n",
    "            data['expenses'].append(record)\n",
    "\n",
    "    return data\n",
    "\n",
    "# Convert df_records to JSON object\n",
    "json_data = json.dumps(generate_json_object(df_records), indent=4)\n",
    "\n"
   ]
  },
  {
   "cell_type": "code",
   "execution_count": 5,
   "id": "45d98a98",
   "metadata": {},
   "outputs": [],
   "source": [
    "\n",
    "# Save the JSON data to 'sample.json' in the 'json' directory\n",
    "with open('../json/sample.json', 'w') as json_file:\n",
    "    json_file.write(json_data)"
   ]
  },
  {
   "cell_type": "code",
   "execution_count": 6,
   "id": "7b6e137b",
   "metadata": {},
   "outputs": [
    {
     "name": "stdout",
     "output_type": "stream",
     "text": [
      "{\n",
      "    \"company_name\": \"Sample Company\",\n",
      "    \"accounting_method\": \"Cash Basis\",\n",
      "    \"start_date\": \"2022-12-31\",\n",
      "    \"end_date\": \"2023-04-30\",\n",
      "    \"income\": [\n",
      "        {\n",
      "            \"category\": \"Operating Income\",\n",
      "            \"description\": \"Income from Caregiving Services\",\n",
      "            \"amount\": 3580695.05\n",
      "        },\n",
      "        {\n",
      "            \"category\": \"Other Income\",\n",
      "            \"description\": \"Interest Income\",\n",
      "            \"amount\": 2000.0\n",
      "        }\n",
      "    ],\n",
      "    \"expenses\": [\n",
      "        {\n",
      "            \"category\": \"Operating Expenses\",\n",
      "            \"description\": \"Payroll Expense\",\n",
      "            \"amount\": 2860415.2\n",
      "        },\n",
      "        {\n",
      "            \"category\": \"Operating Expenses\",\n",
      "            \"description\": \"Payroll Taxes Employer Portion\",\n",
      "            \"amount\": 248334.09\n",
      "        },\n",
      "        {\n",
      "            \"category\": \"Operating Expenses\",\n",
      "            \"description\": \"Employee Injury and Illness Insurance\",\n",
      "            \"amount\": 44916.99\n",
      "        },\n",
      "        {\n",
      "            \"category\": \"Operating Expenses\",\n",
      "            \"description\": \"Contracted Specialist Services\",\n",
      "            \"amount\": 35317.93\n",
      "        },\n",
      "        {\n",
      "            \"category\": \"Other Expenses\",\n",
      "            \"description\": \"Other Expenses\",\n",
      "            \"amount\": 3514.0\n",
      "        },\n",
      "        {\n",
      "            \"category\": \"COGS\",\n",
      "            \"description\": \"Cost of Material\",\n",
      "            \"amount\": 25.0\n",
      "        }\n",
      "    ]\n",
      "}\n"
     ]
    }
   ],
   "source": [
    "print(json_data)"
   ]
  },
  {
   "cell_type": "code",
   "execution_count": null,
   "id": "3c74756a",
   "metadata": {},
   "outputs": [],
   "source": []
  },
  {
   "cell_type": "code",
   "execution_count": null,
   "id": "df890a67",
   "metadata": {},
   "outputs": [],
   "source": []
  },
  {
   "cell_type": "code",
   "execution_count": null,
   "id": "edd1ae07",
   "metadata": {},
   "outputs": [],
   "source": []
  }
 ],
 "metadata": {
  "kernelspec": {
   "display_name": "Python 3 (ipykernel)",
   "language": "python",
   "name": "python3"
  },
  "language_info": {
   "codemirror_mode": {
    "name": "ipython",
    "version": 3
   },
   "file_extension": ".py",
   "mimetype": "text/x-python",
   "name": "python",
   "nbconvert_exporter": "python",
   "pygments_lexer": "ipython3",
   "version": "3.10.7"
  }
 },
 "nbformat": 4,
 "nbformat_minor": 5
}
